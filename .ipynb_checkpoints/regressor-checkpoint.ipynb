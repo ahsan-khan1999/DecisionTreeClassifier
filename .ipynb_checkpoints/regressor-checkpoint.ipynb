{
 "cells": [
  {
   "cell_type": "code",
   "execution_count": 7,
   "metadata": {},
   "outputs": [],
   "source": [
    "import pandas as pd"
   ]
  },
  {
   "cell_type": "code",
   "execution_count": 8,
   "metadata": {},
   "outputs": [],
   "source": [
    "data = pd.read_csv('daily_weather.csv')"
   ]
  },
  {
   "cell_type": "code",
   "execution_count": 9,
   "metadata": {},
   "outputs": [
    {
     "data": {
      "text/html": [
       "<div>\n",
       "<style scoped>\n",
       "    .dataframe tbody tr th:only-of-type {\n",
       "        vertical-align: middle;\n",
       "    }\n",
       "\n",
       "    .dataframe tbody tr th {\n",
       "        vertical-align: top;\n",
       "    }\n",
       "\n",
       "    .dataframe thead th {\n",
       "        text-align: right;\n",
       "    }\n",
       "</style>\n",
       "<table border=\"1\" class=\"dataframe\">\n",
       "  <thead>\n",
       "    <tr style=\"text-align: right;\">\n",
       "      <th></th>\n",
       "      <th>number</th>\n",
       "      <th>air_pressure_9am</th>\n",
       "      <th>air_temp_9am</th>\n",
       "      <th>avg_wind_direction_9am</th>\n",
       "      <th>avg_wind_speed_9am</th>\n",
       "      <th>max_wind_direction_9am</th>\n",
       "      <th>max_wind_speed_9am</th>\n",
       "      <th>rain_accumulation_9am</th>\n",
       "      <th>rain_duration_9am</th>\n",
       "      <th>relative_humidity_9am</th>\n",
       "      <th>relative_humidity_3pm</th>\n",
       "    </tr>\n",
       "  </thead>\n",
       "  <tbody>\n",
       "    <tr>\n",
       "      <th>0</th>\n",
       "      <td>0</td>\n",
       "      <td>918.060000</td>\n",
       "      <td>74.822000</td>\n",
       "      <td>271.100000</td>\n",
       "      <td>2.080354</td>\n",
       "      <td>295.400000</td>\n",
       "      <td>2.863283</td>\n",
       "      <td>0.0</td>\n",
       "      <td>0.0</td>\n",
       "      <td>42.420000</td>\n",
       "      <td>36.160000</td>\n",
       "    </tr>\n",
       "    <tr>\n",
       "      <th>1</th>\n",
       "      <td>1</td>\n",
       "      <td>917.347688</td>\n",
       "      <td>71.403843</td>\n",
       "      <td>101.935179</td>\n",
       "      <td>2.443009</td>\n",
       "      <td>140.471548</td>\n",
       "      <td>3.533324</td>\n",
       "      <td>0.0</td>\n",
       "      <td>0.0</td>\n",
       "      <td>24.328697</td>\n",
       "      <td>19.426597</td>\n",
       "    </tr>\n",
       "    <tr>\n",
       "      <th>2</th>\n",
       "      <td>2</td>\n",
       "      <td>923.040000</td>\n",
       "      <td>60.638000</td>\n",
       "      <td>51.000000</td>\n",
       "      <td>17.067852</td>\n",
       "      <td>63.700000</td>\n",
       "      <td>22.100967</td>\n",
       "      <td>0.0</td>\n",
       "      <td>20.0</td>\n",
       "      <td>8.900000</td>\n",
       "      <td>14.460000</td>\n",
       "    </tr>\n",
       "    <tr>\n",
       "      <th>3</th>\n",
       "      <td>3</td>\n",
       "      <td>920.502751</td>\n",
       "      <td>70.138895</td>\n",
       "      <td>198.832133</td>\n",
       "      <td>4.337363</td>\n",
       "      <td>211.203341</td>\n",
       "      <td>5.190045</td>\n",
       "      <td>0.0</td>\n",
       "      <td>0.0</td>\n",
       "      <td>12.189102</td>\n",
       "      <td>12.742547</td>\n",
       "    </tr>\n",
       "    <tr>\n",
       "      <th>4</th>\n",
       "      <td>4</td>\n",
       "      <td>921.160000</td>\n",
       "      <td>44.294000</td>\n",
       "      <td>277.800000</td>\n",
       "      <td>1.856660</td>\n",
       "      <td>136.500000</td>\n",
       "      <td>2.863283</td>\n",
       "      <td>8.9</td>\n",
       "      <td>14730.0</td>\n",
       "      <td>92.410000</td>\n",
       "      <td>76.740000</td>\n",
       "    </tr>\n",
       "  </tbody>\n",
       "</table>\n",
       "</div>"
      ],
      "text/plain": [
       "   number  air_pressure_9am  air_temp_9am  avg_wind_direction_9am  \\\n",
       "0       0        918.060000     74.822000              271.100000   \n",
       "1       1        917.347688     71.403843              101.935179   \n",
       "2       2        923.040000     60.638000               51.000000   \n",
       "3       3        920.502751     70.138895              198.832133   \n",
       "4       4        921.160000     44.294000              277.800000   \n",
       "\n",
       "   avg_wind_speed_9am  max_wind_direction_9am  max_wind_speed_9am  \\\n",
       "0            2.080354              295.400000            2.863283   \n",
       "1            2.443009              140.471548            3.533324   \n",
       "2           17.067852               63.700000           22.100967   \n",
       "3            4.337363              211.203341            5.190045   \n",
       "4            1.856660              136.500000            2.863283   \n",
       "\n",
       "   rain_accumulation_9am  rain_duration_9am  relative_humidity_9am  \\\n",
       "0                    0.0                0.0              42.420000   \n",
       "1                    0.0                0.0              24.328697   \n",
       "2                    0.0               20.0               8.900000   \n",
       "3                    0.0                0.0              12.189102   \n",
       "4                    8.9            14730.0              92.410000   \n",
       "\n",
       "   relative_humidity_3pm  \n",
       "0              36.160000  \n",
       "1              19.426597  \n",
       "2              14.460000  \n",
       "3              12.742547  \n",
       "4              76.740000  "
      ]
     },
     "execution_count": 9,
     "metadata": {},
     "output_type": "execute_result"
    }
   ],
   "source": [
    "data.head()"
   ]
  },
  {
   "cell_type": "code",
   "execution_count": 10,
   "metadata": {},
   "outputs": [],
   "source": [
    "del data['number']"
   ]
  },
  {
   "cell_type": "code",
   "execution_count": 11,
   "metadata": {},
   "outputs": [],
   "source": [
    "data = data.dropna()"
   ]
  },
  {
   "cell_type": "code",
   "execution_count": 12,
   "metadata": {},
   "outputs": [],
   "source": [
    "output =  data['relative_humidity_3pm']"
   ]
  },
  {
   "cell_type": "code",
   "execution_count": 9,
   "metadata": {},
   "outputs": [
    {
     "data": {
      "text/html": [
       "<div>\n",
       "<style scoped>\n",
       "    .dataframe tbody tr th:only-of-type {\n",
       "        vertical-align: middle;\n",
       "    }\n",
       "\n",
       "    .dataframe tbody tr th {\n",
       "        vertical-align: top;\n",
       "    }\n",
       "\n",
       "    .dataframe thead th {\n",
       "        text-align: right;\n",
       "    }\n",
       "</style>\n",
       "<table border=\"1\" class=\"dataframe\">\n",
       "  <thead>\n",
       "    <tr style=\"text-align: right;\">\n",
       "      <th></th>\n",
       "      <th>air_pressure_9am</th>\n",
       "      <th>air_temp_9am</th>\n",
       "      <th>avg_wind_direction_9am</th>\n",
       "      <th>avg_wind_speed_9am</th>\n",
       "      <th>max_wind_direction_9am</th>\n",
       "      <th>max_wind_speed_9am</th>\n",
       "      <th>rain_accumulation_9am</th>\n",
       "      <th>rain_duration_9am</th>\n",
       "      <th>relative_humidity_9am</th>\n",
       "      <th>relative_humidity_3pm</th>\n",
       "    </tr>\n",
       "  </thead>\n",
       "  <tbody>\n",
       "    <tr>\n",
       "      <td>0</td>\n",
       "      <td>918.060000</td>\n",
       "      <td>74.822000</td>\n",
       "      <td>271.100000</td>\n",
       "      <td>2.080354</td>\n",
       "      <td>295.400000</td>\n",
       "      <td>2.863283</td>\n",
       "      <td>0.0</td>\n",
       "      <td>0.0</td>\n",
       "      <td>42.420000</td>\n",
       "      <td>36.160000</td>\n",
       "    </tr>\n",
       "    <tr>\n",
       "      <td>1</td>\n",
       "      <td>917.347688</td>\n",
       "      <td>71.403843</td>\n",
       "      <td>101.935179</td>\n",
       "      <td>2.443009</td>\n",
       "      <td>140.471548</td>\n",
       "      <td>3.533324</td>\n",
       "      <td>0.0</td>\n",
       "      <td>0.0</td>\n",
       "      <td>24.328697</td>\n",
       "      <td>19.426597</td>\n",
       "    </tr>\n",
       "    <tr>\n",
       "      <td>2</td>\n",
       "      <td>923.040000</td>\n",
       "      <td>60.638000</td>\n",
       "      <td>51.000000</td>\n",
       "      <td>17.067852</td>\n",
       "      <td>63.700000</td>\n",
       "      <td>22.100967</td>\n",
       "      <td>0.0</td>\n",
       "      <td>20.0</td>\n",
       "      <td>8.900000</td>\n",
       "      <td>14.460000</td>\n",
       "    </tr>\n",
       "    <tr>\n",
       "      <td>3</td>\n",
       "      <td>920.502751</td>\n",
       "      <td>70.138895</td>\n",
       "      <td>198.832133</td>\n",
       "      <td>4.337363</td>\n",
       "      <td>211.203341</td>\n",
       "      <td>5.190045</td>\n",
       "      <td>0.0</td>\n",
       "      <td>0.0</td>\n",
       "      <td>12.189102</td>\n",
       "      <td>12.742547</td>\n",
       "    </tr>\n",
       "    <tr>\n",
       "      <td>4</td>\n",
       "      <td>921.160000</td>\n",
       "      <td>44.294000</td>\n",
       "      <td>277.800000</td>\n",
       "      <td>1.856660</td>\n",
       "      <td>136.500000</td>\n",
       "      <td>2.863283</td>\n",
       "      <td>8.9</td>\n",
       "      <td>14730.0</td>\n",
       "      <td>92.410000</td>\n",
       "      <td>76.740000</td>\n",
       "    </tr>\n",
       "    <tr>\n",
       "      <td>...</td>\n",
       "      <td>...</td>\n",
       "      <td>...</td>\n",
       "      <td>...</td>\n",
       "      <td>...</td>\n",
       "      <td>...</td>\n",
       "      <td>...</td>\n",
       "      <td>...</td>\n",
       "      <td>...</td>\n",
       "      <td>...</td>\n",
       "      <td>...</td>\n",
       "    </tr>\n",
       "    <tr>\n",
       "      <td>1090</td>\n",
       "      <td>918.900000</td>\n",
       "      <td>63.104000</td>\n",
       "      <td>192.900000</td>\n",
       "      <td>3.869906</td>\n",
       "      <td>207.300000</td>\n",
       "      <td>5.212070</td>\n",
       "      <td>0.0</td>\n",
       "      <td>0.0</td>\n",
       "      <td>26.020000</td>\n",
       "      <td>38.180000</td>\n",
       "    </tr>\n",
       "    <tr>\n",
       "      <td>1091</td>\n",
       "      <td>918.710000</td>\n",
       "      <td>49.568000</td>\n",
       "      <td>241.600000</td>\n",
       "      <td>1.811921</td>\n",
       "      <td>227.400000</td>\n",
       "      <td>2.371156</td>\n",
       "      <td>0.0</td>\n",
       "      <td>0.0</td>\n",
       "      <td>90.350000</td>\n",
       "      <td>73.340000</td>\n",
       "    </tr>\n",
       "    <tr>\n",
       "      <td>1092</td>\n",
       "      <td>916.600000</td>\n",
       "      <td>71.096000</td>\n",
       "      <td>189.300000</td>\n",
       "      <td>3.064608</td>\n",
       "      <td>200.800000</td>\n",
       "      <td>3.892276</td>\n",
       "      <td>0.0</td>\n",
       "      <td>0.0</td>\n",
       "      <td>45.590000</td>\n",
       "      <td>52.310000</td>\n",
       "    </tr>\n",
       "    <tr>\n",
       "      <td>1093</td>\n",
       "      <td>912.600000</td>\n",
       "      <td>58.406000</td>\n",
       "      <td>172.700000</td>\n",
       "      <td>3.825167</td>\n",
       "      <td>189.100000</td>\n",
       "      <td>4.764682</td>\n",
       "      <td>0.0</td>\n",
       "      <td>0.0</td>\n",
       "      <td>64.840000</td>\n",
       "      <td>58.280000</td>\n",
       "    </tr>\n",
       "    <tr>\n",
       "      <td>1094</td>\n",
       "      <td>921.530000</td>\n",
       "      <td>77.702000</td>\n",
       "      <td>97.100000</td>\n",
       "      <td>3.265932</td>\n",
       "      <td>125.900000</td>\n",
       "      <td>4.451511</td>\n",
       "      <td>0.0</td>\n",
       "      <td>0.0</td>\n",
       "      <td>14.560000</td>\n",
       "      <td>15.100000</td>\n",
       "    </tr>\n",
       "  </tbody>\n",
       "</table>\n",
       "<p>1064 rows × 10 columns</p>\n",
       "</div>"
      ],
      "text/plain": [
       "      air_pressure_9am  air_temp_9am  avg_wind_direction_9am  \\\n",
       "0           918.060000     74.822000              271.100000   \n",
       "1           917.347688     71.403843              101.935179   \n",
       "2           923.040000     60.638000               51.000000   \n",
       "3           920.502751     70.138895              198.832133   \n",
       "4           921.160000     44.294000              277.800000   \n",
       "...                ...           ...                     ...   \n",
       "1090        918.900000     63.104000              192.900000   \n",
       "1091        918.710000     49.568000              241.600000   \n",
       "1092        916.600000     71.096000              189.300000   \n",
       "1093        912.600000     58.406000              172.700000   \n",
       "1094        921.530000     77.702000               97.100000   \n",
       "\n",
       "      avg_wind_speed_9am  max_wind_direction_9am  max_wind_speed_9am  \\\n",
       "0               2.080354              295.400000            2.863283   \n",
       "1               2.443009              140.471548            3.533324   \n",
       "2              17.067852               63.700000           22.100967   \n",
       "3               4.337363              211.203341            5.190045   \n",
       "4               1.856660              136.500000            2.863283   \n",
       "...                  ...                     ...                 ...   \n",
       "1090            3.869906              207.300000            5.212070   \n",
       "1091            1.811921              227.400000            2.371156   \n",
       "1092            3.064608              200.800000            3.892276   \n",
       "1093            3.825167              189.100000            4.764682   \n",
       "1094            3.265932              125.900000            4.451511   \n",
       "\n",
       "      rain_accumulation_9am  rain_duration_9am  relative_humidity_9am  \\\n",
       "0                       0.0                0.0              42.420000   \n",
       "1                       0.0                0.0              24.328697   \n",
       "2                       0.0               20.0               8.900000   \n",
       "3                       0.0                0.0              12.189102   \n",
       "4                       8.9            14730.0              92.410000   \n",
       "...                     ...                ...                    ...   \n",
       "1090                    0.0                0.0              26.020000   \n",
       "1091                    0.0                0.0              90.350000   \n",
       "1092                    0.0                0.0              45.590000   \n",
       "1093                    0.0                0.0              64.840000   \n",
       "1094                    0.0                0.0              14.560000   \n",
       "\n",
       "      relative_humidity_3pm  \n",
       "0                 36.160000  \n",
       "1                 19.426597  \n",
       "2                 14.460000  \n",
       "3                 12.742547  \n",
       "4                 76.740000  \n",
       "...                     ...  \n",
       "1090              38.180000  \n",
       "1091              73.340000  \n",
       "1092              52.310000  \n",
       "1093              58.280000  \n",
       "1094              15.100000  \n",
       "\n",
       "[1064 rows x 10 columns]"
      ]
     },
     "execution_count": 9,
     "metadata": {},
     "output_type": "execute_result"
    }
   ],
   "source": [
    "data"
   ]
  },
  {
   "cell_type": "code",
   "execution_count": 13,
   "metadata": {},
   "outputs": [],
   "source": [
    "del data['relative_humidity_3pm']"
   ]
  },
  {
   "cell_type": "code",
   "execution_count": 34,
   "metadata": {},
   "outputs": [],
   "source": [
    "X=data"
   ]
  },
  {
   "cell_type": "code",
   "execution_count": 15,
   "metadata": {},
   "outputs": [
    {
     "name": "stderr",
     "output_type": "stream",
     "text": [
      "/home/ashan/anaconda3/lib/python3.7/importlib/_bootstrap.py:219: RuntimeWarning: numpy.ufunc size changed, may indicate binary incompatibility. Expected 192 from C header, got 216 from PyObject\n",
      "  return f(*args, **kwds)\n"
     ]
    }
   ],
   "source": [
    "from sklearn.model_selection import train_test_split"
   ]
  },
  {
   "cell_type": "code",
   "execution_count": 35,
   "metadata": {},
   "outputs": [],
   "source": [
    "X_train , X_test , y_train , y_test = train_test_split(X,output,test_size=0.3,random_state=320)"
   ]
  },
  {
   "cell_type": "code",
   "execution_count": 36,
   "metadata": {},
   "outputs": [],
   "source": [
    "from sklearn.tree import DecisionTreeRegressor"
   ]
  },
  {
   "cell_type": "code",
   "execution_count": 50,
   "metadata": {},
   "outputs": [],
   "source": [
    "regressor =  DecisionTreeRegressor(max_leaf_nodes=10,random_state=0)"
   ]
  },
  {
   "cell_type": "code",
   "execution_count": 67,
   "metadata": {},
   "outputs": [
    {
     "data": {
      "text/plain": [
       "DecisionTreeRegressor(criterion='mse', max_depth=None, max_features=None,\n",
       "                      max_leaf_nodes=10, min_impurity_decrease=0.0,\n",
       "                      min_impurity_split=None, min_samples_leaf=1,\n",
       "                      min_samples_split=2, min_weight_fraction_leaf=0.0,\n",
       "                      presort=False, random_state=0, splitter='best')"
      ]
     },
     "execution_count": 67,
     "metadata": {},
     "output_type": "execute_result"
    }
   ],
   "source": [
    "regressor.fit(X_train,y_train)"
   ]
  },
  {
   "cell_type": "code",
   "execution_count": 52,
   "metadata": {},
   "outputs": [],
   "source": [
    "prediction = regressor.predict(X_test)"
   ]
  },
  {
   "cell_type": "code",
   "execution_count": 53,
   "metadata": {},
   "outputs": [
    {
     "data": {
      "text/plain": [
       "array([24.85437493, 19.83565039, 80.42837209, 12.86841882, 51.59336735,\n",
       "       24.85437493, 34.23628198, 41.78922012, 24.85437493, 24.85437493,\n",
       "       19.83565039, 73.84464286, 12.86841882, 32.46987128, 19.83565039,\n",
       "       34.23628198, 12.86841882, 51.59336735, 19.83565039, 34.23628198,\n",
       "       51.59336735, 32.46987128, 24.85437493, 73.84464286, 12.86841882,\n",
       "       19.83565039, 80.42837209, 62.917     , 19.83565039, 19.83565039,\n",
       "       19.83565039, 51.59336735, 51.59336735, 19.83565039, 51.59336735,\n",
       "       19.83565039, 32.46987128, 41.78922012, 51.59336735, 19.83565039,\n",
       "       34.23628198, 62.917     , 12.86841882, 24.85437493, 12.86841882,\n",
       "       19.83565039, 19.83565039, 24.85437493, 19.83565039, 19.83565039,\n",
       "       51.59336735, 34.23628198, 12.86841882, 62.917     , 41.78922012,\n",
       "       19.83565039, 12.86841882, 34.23628198, 12.86841882, 19.83565039,\n",
       "       51.59336735, 12.86841882, 73.84464286, 12.86841882, 41.78922012,\n",
       "       62.917     , 24.85437493, 34.23628198, 73.84464286, 62.917     ,\n",
       "       32.46987128, 41.78922012, 19.83565039, 19.83565039, 12.86841882,\n",
       "       24.85437493, 24.85437493, 19.83565039, 51.59336735, 34.23628198,\n",
       "       19.83565039, 19.83565039, 62.917     , 62.917     , 32.46987128,\n",
       "       32.46987128, 19.83565039, 12.86841882, 24.85437493, 34.23628198,\n",
       "       32.46987128, 41.78922012, 34.23628198, 62.917     , 19.83565039,\n",
       "       24.85437493, 80.42837209, 12.86841882, 73.84464286, 19.83565039,\n",
       "       62.917     , 80.42837209, 73.84464286, 34.23628198, 19.83565039,\n",
       "       32.46987128, 24.85437493, 73.84464286, 41.78922012, 73.84464286,\n",
       "       19.83565039, 19.83565039, 19.83565039, 19.83565039, 34.23628198,\n",
       "       51.59336735, 51.59336735, 24.85437493, 62.917     , 19.83565039,\n",
       "       12.86841882, 19.83565039, 19.83565039, 19.83565039, 12.86841882,\n",
       "       19.83565039, 80.42837209, 12.86841882, 80.42837209, 24.85437493,\n",
       "       12.86841882, 19.83565039, 51.59336735, 19.83565039, 19.83565039,\n",
       "       19.83565039, 51.59336735, 24.85437493, 62.917     , 51.59336735,\n",
       "       19.83565039, 32.46987128, 34.23628198, 34.23628198, 19.83565039,\n",
       "       80.42837209, 19.83565039, 19.83565039, 24.85437493, 19.83565039,\n",
       "       62.917     , 24.85437493, 80.42837209, 19.83565039, 24.85437493,\n",
       "       19.83565039, 12.86841882, 51.59336735, 12.86841882, 24.85437493,\n",
       "       19.83565039, 12.86841882, 19.83565039, 51.59336735, 62.917     ,\n",
       "       73.84464286, 12.86841882, 19.83565039, 19.83565039, 80.42837209,\n",
       "       62.917     , 41.78922012, 34.23628198, 19.83565039, 24.85437493,\n",
       "       19.83565039, 62.917     , 24.85437493, 51.59336735, 19.83565039,\n",
       "       80.42837209, 34.23628198, 34.23628198, 19.83565039, 24.85437493,\n",
       "       73.84464286, 51.59336735, 32.46987128, 34.23628198, 12.86841882,\n",
       "       12.86841882, 62.917     , 19.83565039, 19.83565039, 19.83565039,\n",
       "       19.83565039, 19.83565039, 62.917     , 19.83565039, 19.83565039,\n",
       "       73.84464286, 19.83565039, 73.84464286, 51.59336735, 80.42837209,\n",
       "       62.917     , 19.83565039, 51.59336735, 19.83565039, 19.83565039,\n",
       "       51.59336735, 19.83565039, 73.84464286, 62.917     , 41.78922012,\n",
       "       34.23628198, 51.59336735, 51.59336735, 24.85437493, 19.83565039,\n",
       "       19.83565039, 19.83565039, 12.86841882, 19.83565039, 24.85437493,\n",
       "       24.85437493, 24.85437493, 12.86841882, 19.83565039, 62.917     ,\n",
       "       12.86841882, 24.85437493, 62.917     , 51.59336735, 51.59336735,\n",
       "       51.59336735, 19.83565039, 41.78922012, 19.83565039, 51.59336735,\n",
       "       19.83565039, 34.23628198, 34.23628198, 24.85437493, 19.83565039,\n",
       "       24.85437493, 73.84464286, 19.83565039, 41.78922012, 19.83565039,\n",
       "       51.59336735, 24.85437493, 32.46987128, 62.917     , 73.84464286,\n",
       "       19.83565039, 24.85437493, 62.917     , 19.83565039, 80.42837209,\n",
       "       12.86841882, 19.83565039, 19.83565039, 19.83565039, 12.86841882,\n",
       "       19.83565039, 12.86841882, 19.83565039, 19.83565039, 19.83565039,\n",
       "       19.83565039, 24.85437493, 51.59336735, 34.23628198, 19.83565039,\n",
       "       24.85437493, 34.23628198, 62.917     , 32.46987128, 80.42837209,\n",
       "       12.86841882, 73.84464286, 19.83565039, 19.83565039, 19.83565039,\n",
       "       24.85437493, 12.86841882, 24.85437493, 12.86841882, 19.83565039,\n",
       "       34.23628198, 51.59336735, 51.59336735, 51.59336735, 19.83565039,\n",
       "       73.84464286, 34.23628198, 34.23628198, 24.85437493, 24.85437493,\n",
       "       19.83565039, 62.917     , 12.86841882, 24.85437493, 19.83565039,\n",
       "       34.23628198, 32.46987128, 73.84464286, 24.85437493, 12.86841882,\n",
       "       62.917     , 62.917     , 41.78922012, 19.83565039, 73.84464286,\n",
       "       19.83565039, 19.83565039, 24.85437493, 73.84464286, 51.59336735])"
      ]
     },
     "execution_count": 53,
     "metadata": {},
     "output_type": "execute_result"
    }
   ],
   "source": [
    "prediction"
   ]
  },
  {
   "cell_type": "code",
   "execution_count": 34,
   "metadata": {},
   "outputs": [],
   "source": [
    "# from sklearn.model_selection import cross_val_score\n",
    "# prediction =prediction.reshape(-1,1)"
   ]
  },
  {
   "cell_type": "code",
   "execution_count": 33,
   "metadata": {},
   "outputs": [],
   "source": [
    "import numpy as np"
   ]
  },
  {
   "cell_type": "code",
   "execution_count": 41,
   "metadata": {},
   "outputs": [],
   "source": [
    "# y_test = np.array(y_test).reshape(-1,1)"
   ]
  },
  {
   "cell_type": "code",
   "execution_count": null,
   "metadata": {},
   "outputs": [],
   "source": []
  },
  {
   "cell_type": "code",
   "execution_count": 54,
   "metadata": {},
   "outputs": [
    {
     "data": {
      "text/plain": [
       "79.24887199376191"
      ]
     },
     "execution_count": 54,
     "metadata": {},
     "output_type": "execute_result"
    }
   ],
   "source": [
    "regressor.score(X_test,y_test)* 100"
   ]
  },
  {
   "cell_type": "code",
   "execution_count": 55,
   "metadata": {},
   "outputs": [],
   "source": [
    "# import modin.pandas as pd"
   ]
  },
  {
   "cell_type": "code",
   "execution_count": 56,
   "metadata": {},
   "outputs": [],
   "source": [
    "# import time"
   ]
  },
  {
   "cell_type": "code",
   "execution_count": 1,
   "metadata": {},
   "outputs": [],
   "source": [
    "# from sklearn.preprocessing import StandardScaler"
   ]
  },
  {
   "cell_type": "code",
   "execution_count": 2,
   "metadata": {},
   "outputs": [],
   "source": [
    "# sc = StandardScaler()"
   ]
  },
  {
   "cell_type": "code",
   "execution_count": 23,
   "metadata": {},
   "outputs": [],
   "source": [
    "# X_train = sc.fit_transform(X_train)"
   ]
  },
  {
   "cell_type": "code",
   "execution_count": 24,
   "metadata": {},
   "outputs": [],
   "source": [
    "# X_test = sc.transform(X_test)"
   ]
  },
  {
   "cell_type": "code",
   "execution_count": 32,
   "metadata": {},
   "outputs": [],
   "source": [
    "# from sklearn.metrics import confusion_matrix"
   ]
  },
  {
   "cell_type": "code",
   "execution_count": 31,
   "metadata": {},
   "outputs": [],
   "source": [
    "# confusion_metrix = confusion_matrix(y_test,prediction)"
   ]
  },
  {
   "cell_type": "code",
   "execution_count": null,
   "metadata": {},
   "outputs": [],
   "source": []
  }
 ],
 "metadata": {
  "kernelspec": {
   "display_name": "Python 3",
   "language": "python",
   "name": "python3"
  },
  "language_info": {
   "codemirror_mode": {
    "name": "ipython",
    "version": 3
   },
   "file_extension": ".py",
   "mimetype": "text/x-python",
   "name": "python",
   "nbconvert_exporter": "python",
   "pygments_lexer": "ipython3",
   "version": "3.7.4"
  }
 },
 "nbformat": 4,
 "nbformat_minor": 2
}
